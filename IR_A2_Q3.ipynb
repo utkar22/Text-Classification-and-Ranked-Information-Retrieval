{
  "nbformat": 4,
  "nbformat_minor": 0,
  "metadata": {
    "colab": {
      "provenance": [],
      "authorship_tag": "ABX9TyOMXCAjxOXaK8mNmMI3Rg2Y",
      "include_colab_link": true
    },
    "kernelspec": {
      "name": "python3",
      "display_name": "Python 3"
    },
    "language_info": {
      "name": "python"
    }
  },
  "cells": [
    {
      "cell_type": "markdown",
      "metadata": {
        "id": "view-in-github",
        "colab_type": "text"
      },
      "source": [
        "<a href=\"https://colab.research.google.com/github/utkar22/CSE508_Winter2023_A2_48/blob/main/IR_A2_Q3.ipynb\" target=\"_parent\"><img src=\"https://colab.research.google.com/assets/colab-badge.svg\" alt=\"Open In Colab\"/></a>"
      ]
    },
    {
      "cell_type": "code",
      "execution_count": 18,
      "metadata": {
        "id": "C9hBe4ym7Ie3"
      },
      "outputs": [],
      "source": [
        "import pandas as pd\n",
        "import math\n",
        "import io\n",
        "import matplotlib.pyplot as plt"
      ]
    },
    {
      "cell_type": "code",
      "source": [
        "from google.colab import drive\n",
        "drive.mount('/content/drive')"
      ],
      "metadata": {
        "colab": {
          "base_uri": "https://localhost:8080/"
        },
        "id": "kyJ4p0je7655",
        "outputId": "5862a60e-dab5-464c-dc69-64214721ac74"
      },
      "execution_count": 2,
      "outputs": [
        {
          "output_type": "stream",
          "name": "stdout",
          "text": [
            "Mounted at /content/drive\n"
          ]
        }
      ]
    },
    {
      "cell_type": "code",
      "source": [
        "%cd /content/drive/MyDrive/IR_A2"
      ],
      "metadata": {
        "colab": {
          "base_uri": "https://localhost:8080/"
        },
        "id": "LD6Dbw9YoqZ9",
        "outputId": "a6d0e162-4487-4c20-cb2a-44fa139bb63a"
      },
      "execution_count": 3,
      "outputs": [
        {
          "output_type": "stream",
          "name": "stdout",
          "text": [
            "/content/drive/MyDrive/IR_A2\n"
          ]
        }
      ]
    },
    {
      "cell_type": "code",
      "source": [
        "f = open(\"q3_clean.txt\")\n",
        "f_data = f.readlines()\n",
        "f.close()"
      ],
      "metadata": {
        "id": "P-q0uqdupUP9"
      },
      "execution_count": 4,
      "outputs": []
    },
    {
      "cell_type": "code",
      "source": [
        "mat = []\n",
        "sorted_mat = []\n",
        "\n",
        "for line in f_data:\n",
        "    curr = []\n",
        "    line_list = line.split()\n",
        "    curr.append(int(line_list[0]))\n",
        "\n",
        "    for j in range(2,len(line_list)):\n",
        "        j_list = line_list[j].split(\":\")\n",
        "        curr.append(float(j_list[1]))\n",
        "\n",
        "    mat.append(curr)\n",
        "    sorted_mat.append(curr)"
      ],
      "metadata": {
        "id": "gBKfWYSMsufA"
      },
      "execution_count": 5,
      "outputs": []
    },
    {
      "cell_type": "code",
      "source": [
        "sorted_mat = sorted(sorted_mat, key=lambda x: -x[0])"
      ],
      "metadata": {
        "id": "BJPVntMm3PNw"
      },
      "execution_count": 6,
      "outputs": []
    },
    {
      "cell_type": "code",
      "source": [
        "count = [0,0,0,0]\n",
        "\n",
        "for i in sorted_mat:\n",
        "    count[i[0]]+=1\n",
        "\n",
        "print(f\"There can be {count[0]}! * {count[1]}! * {count[2]}! * {count[3]}! such files.\")"
      ],
      "metadata": {
        "colab": {
          "base_uri": "https://localhost:8080/"
        },
        "id": "pxX0yc9k4aT2",
        "outputId": "4bd90179-1e77-45ee-8eee-a109f1724f54"
      },
      "execution_count": 7,
      "outputs": [
        {
          "output_type": "stream",
          "name": "stdout",
          "text": [
            "There can be 59! * 26! * 17! * 1! such files.\n"
          ]
        }
      ]
    },
    {
      "cell_type": "markdown",
      "source": [
        "Calculating the DCG by the formula: rel_1 + sum(rel_i/log(i))"
      ],
      "metadata": {
        "id": "bQS-w_Ne4C0_"
      }
    },
    {
      "cell_type": "code",
      "source": [
        "def calculate_DCG(matrix, n):\n",
        "    DCG = matrix[0][0]\n",
        "    for i in range(1,n):\n",
        "        DCG+= (matrix[i][0])/(math.log(i+1, 2))\n",
        "        #print(matrix[i][0], DCG, i)\n",
        "    return DCG"
      ],
      "metadata": {
        "id": "pSlDf6H7uOVt"
      },
      "execution_count": 8,
      "outputs": []
    },
    {
      "cell_type": "code",
      "source": [
        "maximum_DCG = calculate_DCG(sorted_mat, len(sorted_mat))\n",
        "print(f\"The maximum DCG is {maximum_DCG}\")"
      ],
      "metadata": {
        "colab": {
          "base_uri": "https://localhost:8080/"
        },
        "id": "hd6-GMFi1U2K",
        "outputId": "65d4141d-746e-40d5-d530-e9635a2f2c18"
      },
      "execution_count": 9,
      "outputs": [
        {
          "output_type": "stream",
          "name": "stdout",
          "text": [
            "The maximum DCG is 20.989750804831445\n"
          ]
        }
      ]
    },
    {
      "cell_type": "code",
      "source": [
        "f = open(\"IR_A3_Q3_out.txt\", \"w\")\n",
        "\n",
        "for i in sorted_mat:\n",
        "    print(f\"{i[0]} qid:4\", file = f, end = \" \")\n",
        "\n",
        "    for j in range(1, len(i)):\n",
        "        print(f\"{j}:{i[j]}\", file = f, end = \" \")\n",
        "\n",
        "    print(file = f)    \n",
        "\n",
        "f.close()"
      ],
      "metadata": {
        "id": "e8MXVC2Vn_95"
      },
      "execution_count": 32,
      "outputs": []
    },
    {
      "cell_type": "code",
      "source": [
        "nDCG_50 = calculate_DCG(mat, 50)/calculate_DCG(sorted_mat, 50)\n",
        "nDCG_full = calculate_DCG(mat, len(mat))/calculate_DCG(sorted_mat, len(sorted_mat))\n",
        "\n",
        "print(f\"The nDCG at position 50 is {nDCG_50}\")\n",
        "print(f\"The nDCG for the entire dataset is {nDCG_full}\")"
      ],
      "metadata": {
        "colab": {
          "base_uri": "https://localhost:8080/"
        },
        "id": "8A9ckBgGs0-4",
        "outputId": "90f08607-3a92-411c-ba59-c90541e88973"
      },
      "execution_count": 10,
      "outputs": [
        {
          "output_type": "stream",
          "name": "stdout",
          "text": [
            "The nDCG at position 50 is 0.3521042740324887\n",
            "The nDCG for the entire dataset is 0.5979226516897831\n"
          ]
        }
      ]
    },
    {
      "cell_type": "markdown",
      "source": [
        "Plotting the Precision-Recall Curve"
      ],
      "metadata": {
        "id": "zkklK7Rlkxzz"
      }
    },
    {
      "cell_type": "code",
      "source": [
        "sorted_mat_75 = sorted(mat, key=lambda x: -x[75])"
      ],
      "metadata": {
        "id": "b2e_ld_Ohxyr"
      },
      "execution_count": 12,
      "outputs": []
    },
    {
      "cell_type": "code",
      "source": [
        "total_relevant = count[1] + count[2] + count[3]\n",
        "\n",
        "precision = []\n",
        "recall = []\n",
        "\n",
        "count_curr = 0\n",
        "count_relevant = 0\n",
        "for i in mat:\n",
        "    if i[0] > 0:\n",
        "        count_relevant += 1\n",
        "    count_curr += 1\n",
        "\n",
        "    curr_p = count_relevant/count_curr\n",
        "    curr_r = count_relevant/total_relevant\n",
        "\n",
        "    precision.append(curr_p)\n",
        "    recall.append(curr_r)"
      ],
      "metadata": {
        "id": "OgOQofTuh4zr"
      },
      "execution_count": 20,
      "outputs": []
    },
    {
      "cell_type": "code",
      "source": [
        "%matplotlib inline\n",
        "\n",
        "plt.plot(recall, precision)\n",
        "plt.title(\"Precision-Recall curve\")\n",
        "plt.xlabel(\"Recall\")\n",
        "plt.ylabel(\"Precision\")\n",
        "plt.show()"
      ],
      "metadata": {
        "colab": {
          "base_uri": "https://localhost:8080/",
          "height": 295
        },
        "id": "Dc8n2l5giYiA",
        "outputId": "6972283f-1216-4723-b1d5-90b5c7e34ded"
      },
      "execution_count": 24,
      "outputs": [
        {
          "output_type": "display_data",
          "data": {
            "text/plain": [
              "<Figure size 432x288 with 1 Axes>"
            ],
            "image/png": "[encoded data removed]"
          },
          "metadata": {
            "needs_background": "light"
          }
        }
      ]
    }
  ]
}