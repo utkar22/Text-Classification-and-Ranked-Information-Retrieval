{
  "nbformat": 4,
  "nbformat_minor": 0,
  "metadata": {
    "colab": {
      "provenance": [],
      "mount_file_id": "1yGFWSg8GxPcmH_dDnHsBCEm6HRbxgaOd",
      "authorship_tag": "ABX9TyOBZdyB1i0X9TKxExDDtg5x",
      "include_colab_link": true
    },
    "kernelspec": {
      "name": "python3",
      "display_name": "Python 3"
    },
    "language_info": {
      "name": "python"
    }
  },
  "cells": [
    {
      "cell_type": "markdown",
      "metadata": {
        "id": "view-in-github",
        "colab_type": "text"
      },
      "source": [
        "<a href=\"https://colab.research.google.com/github/utkar22/CSE508_Winter2023_A2_48/blob/main/IR_A2_Q1.ipynb\" target=\"_parent\"><img src=\"https://colab.research.google.com/assets/colab-badge.svg\" alt=\"Open In Colab\"/></a>"
      ]
    },
    {
      "cell_type": "code",
      "execution_count": 5,
      "metadata": {
        "id": "2auU4EXUKv1T"
      },
      "outputs": [],
      "source": [
        "import pickle \n",
        "import numpy as np\n",
        "import pandas as pd\n",
        "from multiset import *\n",
        "import os"
      ]
    },
    {
      "cell_type": "markdown",
      "source": [
        "# **Jaccard Coefficient**\n"
      ],
      "metadata": {
        "id": "p7IywgREa7nL"
      }
    },
    {
      "cell_type": "code",
      "source": [
        "mod_path = '/content/drive/MyDrive/IR_Assignments/A2'"
      ],
      "metadata": {
        "id": "v_tE7ic0LmES"
      },
      "execution_count": 41,
      "outputs": []
    },
    {
      "cell_type": "code",
      "source": [
        "ds_path = '/content/drive/MyDrive/IR_Assignments/A2/Processed_Dataset'\n",
        "doc_id_to_set = {}\n",
        "idx = 1\n",
        "for doc in sorted(os.listdir(ds_path)):\n",
        "  mset = set()\n",
        "\n",
        "  doc_id = int(doc[-4:])\n",
        "  doc_path = ds_path + '/' + doc\n",
        "\n",
        "  print(doc_id)\n",
        "\n",
        "  with open(doc_path, 'r') as f:\n",
        "    text = str(f.readlines()[0])\n",
        "\n",
        "  tokens = text.split(' ')\n",
        "\n",
        "\n",
        "  for token in tokens:\n",
        "    mset.add(token)\n",
        "\n",
        "  print(len(mset))\n",
        "  print(len(tokens))\n",
        "  doc_id_to_set[doc_id] = mset\n",
        "\n",
        "print(len(doc_id_to_set))  \n",
        "with open(mod_path+'/doc_id_to_mset.pkl', 'wb') as f:\n",
        "  pickle.dump(doc_id_to_set, f)\n",
        "\n"
      ],
      "metadata": {
        "id": "zs8SwEAfMyov"
      },
      "execution_count": null,
      "outputs": []
    },
    {
      "cell_type": "code",
      "source": [
        "#calculating Jaccard coefficient of each query document wise\n",
        "def calc_jacc(query_tokens, doc_id_to_set):\n",
        "  res = []\n",
        "  res_set = {}\n",
        "  query_set = set()\n",
        "  for token in query_tokens: #make the set of the query tokens\n",
        "    query_set.add(token)\n",
        "\n",
        "  for doc_id, mset in doc_id_to_set.items(): #calculate the intersection and union of each document set and query set\n",
        "    un, inter = len(query_set.union(mset)), len(query_set.intersection(mset))\n",
        "    if un == 0: #edge case when the doc or query do not have any words in them\n",
        "      res_set[doc_id] = 0\n",
        "      continue\n",
        "    \n",
        "    jacc_coeff = inter/un #calculating the Jaccard Coefficient\n",
        "    res_set[doc_id] = jacc_coeff\n",
        "  res_set = {k:v for k,v in sorted(res_set.items(), key = lambda item:item[1], reverse = True)} #sorting in descending order on the basis of the Jaccard Coefficient\n",
        "  idx = 0\n",
        "  for doc_id, jacc_coeff in res_set.items(): # make the list of the top 10 documents on the basis of the Jaccard coefficient\n",
        "    res.append((doc_id, jacc_coeff))\n",
        "    if idx == 9:\n",
        "      break\n",
        "    idx+=1\n",
        "\n",
        "  return res\n",
        "\n",
        "\n"
      ],
      "metadata": {
        "id": "tzN-Xf0zVMPD"
      },
      "execution_count": 60,
      "outputs": []
    },
    {
      "cell_type": "code",
      "source": [
        "#query processing and result printing\n",
        "\n",
        "q = int(input('Enter number of queries: '))\n",
        "while q>0:\n",
        "  query = input('Enter query: ')\n",
        "\n",
        "  query_tokens = query.split(' ')\n",
        "  res = calc_jacc(query_tokens, doc_id_to_set)\n",
        "\n",
        "  if res[0][1] == 0.0:\n",
        "    print('No right document exists')\n",
        "  else:\n",
        "    print(res)\n",
        "  q-=1"
      ],
      "metadata": {
        "colab": {
          "base_uri": "https://localhost:8080/"
        },
        "id": "WDPY3xq-T4_-",
        "outputId": "6b6035c8-cb34-4652-9df6-17227d4a6edc"
      },
      "execution_count": 65,
      "outputs": [
        {
          "output_type": "stream",
          "name": "stdout",
          "text": [
            "Enter number of queries: 3\n",
            "Enter query: velocity pressure\n",
            "[(194, 0.07142857142857142), (3, 0.058823529411764705), (215, 0.05714285714285714), (900, 0.05714285714285714), (241, 0.05555555555555555), (1139, 0.05405405405405406), (1283, 0.05263157894736842), (74, 0.046511627906976744), (770, 0.045454545454545456), (984, 0.045454545454545456)]\n",
            "Enter query: helloo\n",
            "No right document exists\n",
            "Enter query: train\n",
            "No right document exists\n"
          ]
        }
      ]
    }
  ]
}