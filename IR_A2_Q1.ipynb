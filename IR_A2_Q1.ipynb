{
  "nbformat": 4,
  "nbformat_minor": 0,
  "metadata": {
    "colab": {
      "provenance": [],
      "mount_file_id": "1yGFWSg8GxPcmH_dDnHsBCEm6HRbxgaOd",
      "authorship_tag": "ABX9TyPe3X6pdEI3UKgulwXwSSn1",
      "include_colab_link": true
    },
    "kernelspec": {
      "name": "python3",
      "display_name": "Python 3"
    },
    "language_info": {
      "name": "python"
    }
  },
  "cells": [
    {
      "cell_type": "markdown",
      "metadata": {
        "id": "view-in-github",
        "colab_type": "text"
      },
      "source": [
        "<a href=\"https://colab.research.google.com/github/utkar22/CSE508_Winter2023_A2_48/blob/main/IR_A2_Q1.ipynb\" target=\"_parent\"><img src=\"https://colab.research.google.com/assets/colab-badge.svg\" alt=\"Open In Colab\"/></a>"
      ]
    },
    {
      "cell_type": "code",
      "execution_count": 7,
      "metadata": {
        "id": "2auU4EXUKv1T"
      },
      "outputs": [],
      "source": [
        "import pickle \n",
        "import numpy as np\n",
        "import pandas as pd\n",
        "import os\n",
        "import math"
      ]
    },
    {
      "cell_type": "markdown",
      "source": [
        "# **Jaccard Coefficient**\n"
      ],
      "metadata": {
        "id": "p7IywgREa7nL"
      }
    },
    {
      "cell_type": "code",
      "source": [
        "mod_path = '/content/drive/MyDrive/IR_Assignments/A2/modules'\n",
        "ds_path = '/content/drive/MyDrive/IR_Assignments/A2/Processed_Dataset'"
      ],
      "metadata": {
        "id": "v_tE7ic0LmES"
      },
      "execution_count": 5,
      "outputs": []
    },
    {
      "cell_type": "code",
      "source": [
        "\n",
        "doc_id_to_set = {}\n",
        "idx = 1\n",
        "for doc in sorted(os.listdir(ds_path)):\n",
        "  mset = set()\n",
        "\n",
        "  doc_id = int(doc[-4:])\n",
        "  doc_path = ds_path + '/' + doc\n",
        "\n",
        "  print(doc_id)\n",
        "\n",
        "  with open(doc_path, 'r') as f:\n",
        "    text = str(f.readlines()[0])\n",
        "\n",
        "  tokens = text.split(' ')\n",
        "\n",
        "\n",
        "  for token in tokens:\n",
        "    mset.add(token)\n",
        "\n",
        "  print(len(mset))\n",
        "  print(len(tokens))\n",
        "  doc_id_to_set[doc_id] = mset\n",
        "\n",
        "print(len(doc_id_to_set))  \n",
        "with open(mod_path+'/doc_id_to_mset.pkl', 'wb') as f:\n",
        "  pickle.dump(doc_id_to_set, f)\n",
        "\n"
      ],
      "metadata": {
        "id": "zs8SwEAfMyov"
      },
      "execution_count": null,
      "outputs": []
    },
    {
      "cell_type": "code",
      "source": [
        "#calculating Jaccard coefficient of each query document wise\n",
        "def calc_jacc(query_tokens, doc_id_to_set):\n",
        "  res = []\n",
        "  res_set = {}\n",
        "  query_set = set()\n",
        "  for token in query_tokens: #make the set of the query tokens\n",
        "    query_set.add(token)\n",
        "\n",
        "  for doc_id, mset in doc_id_to_set.items(): #calculate the intersection and union of each document set and query set\n",
        "    un, inter = len(query_set.union(mset)), len(query_set.intersection(mset))\n",
        "    if un == 0: #edge case when the doc or query do not have any words in them\n",
        "      res_set[doc_id] = 0\n",
        "      continue\n",
        "    \n",
        "    jacc_coeff = inter/un #calculating the Jaccard Coefficient\n",
        "    res_set[doc_id] = jacc_coeff\n",
        "  res_set = {k:v for k,v in sorted(res_set.items(), key = lambda item:item[1], reverse = True)} #sorting in descending order on the basis of the Jaccard Coefficient\n",
        "  idx = 0\n",
        "  for doc_id, jacc_coeff in res_set.items(): # make the list of the top 10 documents on the basis of the Jaccard coefficient\n",
        "    res.append((doc_id, jacc_coeff))\n",
        "    if idx == 9:\n",
        "      break\n",
        "    idx+=1\n",
        "\n",
        "  return res\n",
        "\n",
        "\n"
      ],
      "metadata": {
        "id": "tzN-Xf0zVMPD"
      },
      "execution_count": null,
      "outputs": []
    },
    {
      "cell_type": "code",
      "source": [
        "#query processing and result printing\n",
        "def jacc_coeff_queries():\n",
        "  with open(mod_path+'/doc_id_to_mset.pkl', 'rb') as f:\n",
        "    doc_id_to_set = pickle.load(f)\n",
        "  q = int(input('Enter number of queries: '))\n",
        "  while q>0:\n",
        "    query = input('Enter query: ')\n",
        "\n",
        "    query_tokens = query.split(' ')\n",
        "    res = calc_jacc(query_tokens, doc_id_to_set)\n",
        "\n",
        "    if res[0][1] == 0.0:\n",
        "      print('No right document exists')\n",
        "    else:\n",
        "      print(res)\n",
        "    q-=1\n",
        "\n",
        "jacc_coeff_queries()"
      ],
      "metadata": {
        "colab": {
          "base_uri": "https://localhost:8080/"
        },
        "id": "WDPY3xq-T4_-",
        "outputId": "95b91e5c-87b8-42b9-b43c-9a7a7424fba5"
      },
      "execution_count": null,
      "outputs": [
        {
          "output_type": "stream",
          "name": "stdout",
          "text": [
            "Enter number of queries: 3\n",
            "Enter query: velocity temperature aerodynamics\n",
            "[(407, 0.06896551724137931), (378, 0.05263157894736842), (549, 0.05263157894736842), (71, 0.05128205128205128), (31, 0.05), (269, 0.04878048780487805), (61, 0.047619047619047616), (154, 0.047619047619047616), (460, 0.0425531914893617), (485, 0.041666666666666664)]\n",
            "Enter query: complete\n",
            "[(684, 0.03225806451612903), (1038, 0.025), (1400, 0.022222222222222223), (372, 0.021739130434782608), (1078, 0.019230769230769232), (1135, 0.019230769230769232), (702, 0.018867924528301886), (319, 0.018518518518518517), (55, 0.017543859649122806), (1091, 0.017241379310344827)]\n",
            "Enter query: entry\n",
            "[(1348, 0.02702702702702703), (715, 0.022727272727272728), (1345, 0.018867924528301886), (944, 0.018518518518518517), (967, 0.01818181818181818), (275, 0.017543859649122806), (1394, 0.016666666666666666), (1346, 0.01639344262295082), (69, 0.015873015873015872), (982, 0.015873015873015872)]\n"
          ]
        }
      ]
    },
    {
      "cell_type": "markdown",
      "source": [
        "# **TF IDF**"
      ],
      "metadata": {
        "id": "33px-8YXtHY6"
      }
    },
    {
      "cell_type": "code",
      "source": [
        "vocabulary = set()\n",
        "\n",
        "for doc in os.listdir(ds_path):\n",
        "  with open(ds_path+f'/{doc}', 'r') as f:\n",
        "    text = f.readlines()[0]\n",
        "  tokens = text.split(' ')\n",
        "  for token in tokens:\n",
        "    vocabulary.add(token)\n",
        "print(len(vocabulary))"
      ],
      "metadata": {
        "colab": {
          "base_uri": "https://localhost:8080/"
        },
        "id": "vP-obsWiswt5",
        "outputId": "6bfb1fe7-2fb2-4ef7-9902-5543c445a234"
      },
      "execution_count": null,
      "outputs": [
        {
          "output_type": "stream",
          "name": "stdout",
          "text": [
            "8971\n"
          ]
        }
      ]
    },
    {
      "cell_type": "code",
      "source": [
        "idx = 0\n",
        "word_to_index = {}\n",
        "index_to_word = {}\n",
        "for word in vocabulary:\n",
        "  word_to_index[word] = idx\n",
        "  index_to_word[idx] = word\n",
        "  idx+=1\n",
        "print(word_to_index)\n",
        "print(index_to_word)\n",
        "print(len(word_to_index))\n",
        "print(len(index_to_word))"
      ],
      "metadata": {
        "id": "E9Zt0-Im--UD"
      },
      "execution_count": null,
      "outputs": []
    },
    {
      "cell_type": "code",
      "source": [
        "with open(mod_path + '/vocabulary_set.pkl', 'wb') as f:\n",
        "  pickle.dump(vocabulary, f)\n",
        "with open(mod_path + '/word_to_index.pkl', 'wb') as f:\n",
        "  pickle.dump(word_to_index, f)\n",
        "with open(mod_path + '/index_to_word.pkl', 'wb') as f:\n",
        "  pickle.dump(index_to_word, f)\n"
      ],
      "metadata": {
        "id": "NiD2tI6U2nfj"
      },
      "execution_count": null,
      "outputs": []
    },
    {
      "cell_type": "code",
      "source": [
        "with open(mod_path + '/vocabulary_set.pkl', 'rb') as f:\n",
        "  vocabulary = pickle.load(f)\n",
        "with open(mod_path + '/word_to_index.pkl', 'rb') as f:\n",
        "  word_to_index = pickle.load(f)\n",
        "with open(mod_path + '/index_to_word.pkl', 'rb') as f:\n",
        "  index_to_word = pickle.load(f)"
      ],
      "metadata": {
        "id": "np5cyY9gI9bh"
      },
      "execution_count": 12,
      "outputs": []
    },
    {
      "cell_type": "code",
      "source": [
        "with open(mod_path + '/vocabulary_set.pkl', 'rb') as f:\n",
        "  vocabulary = pickle.load(f)"
      ],
      "metadata": {
        "id": "tKQh8D0wb38j"
      },
      "execution_count": 13,
      "outputs": []
    },
    {
      "cell_type": "code",
      "source": [
        "class Word:\n",
        "  def __init__(self):\n",
        "    self.binary_tf = {}\n",
        "    self.count_tf = {}\n",
        "    self.freq_tf = {}\n",
        "    self.log_tf = {}\n",
        "    self.double_norm_tf ={}\n",
        "    self.df = 0\n",
        "  "
      ],
      "metadata": {
        "id": "T-wdSDel-n3i"
      },
      "execution_count": null,
      "outputs": []
    },
    {
      "cell_type": "code",
      "source": [
        "def update_word(token, doc_id, total_words):\n",
        "  ''' update the binary-tf, count-tf and \n",
        "  freq-tf weights of each word per doc'''\n",
        "  if doc_id not in token.binary_tf:\n",
        "\n",
        "    token.binary_tf[doc_id] = 1\n",
        "    token.count_tf[doc_id] = 1\n",
        "\n",
        "    token.freq_tf[doc_id] = float(token.count_tf[doc_id]/total_words)\n",
        "    token.log_tf[doc_id] = math.log(1+token.count_tf[doc_id])\n",
        "    \n",
        "  else:\n",
        "    token.count_tf[doc_id] = token.count_tf[doc_id]+1\n",
        "    token.freq_tf[doc_id] = float(token.count_tf[doc_id]/total_words)\n",
        "\n",
        "    token.log_tf[doc_id] = math.log(1+token.count_tf[doc_id])\n",
        "  token.df = len(token.binary_tf)\n",
        "\n",
        "def update_double_normal_tf(token, doc_id, max_count):\n",
        "  ''' updates the double normalization tf value for a word'''\n",
        "  token.double_norm_tf[doc_id] = 0.5 + 0.5*(token.count_tf[doc_id])/max_count\n"
      ],
      "metadata": {
        "id": "IiNDe64UCM9t"
      },
      "execution_count": null,
      "outputs": []
    },
    {
      "cell_type": "code",
      "source": [
        "lst = []\n",
        "word_set = {}\n",
        "index = 0\n",
        "for doc in os.listdir(ds_path):\n",
        "  local_dict = {}\n",
        "  doc_idx = int(doc[-4:])\n",
        "  lst.append(doc_idx)\n",
        "  with open(ds_path + f'/{doc}', 'r') as f:\n",
        "    text = f.readlines()[0]\n",
        "  tokens = text.split(' ')\n",
        "  print(tokens)\n",
        "  for token in tokens:\n",
        "    if token in local_dict:\n",
        "      local_dict[token] += 1\n",
        "    else:\n",
        "      local_dict[token] = 1\n",
        "    if token not in word_set:\n",
        "      new_tok = Word()\n",
        "      word_set[token] = new_tok\n",
        "    update_word(word_set[token], doc_idx, len(tokens))\n",
        "\n",
        "  sorted_dict = {k:v for k,v in sorted(local_dict.items(), key = lambda item:item[1], reverse = True)}\n",
        "  maxi = sorted_dict[list(sorted_dict.keys())[0]]\n",
        "  for token in tokens:\n",
        "    update_double_normal_tf(word_set[token], doc_idx, maxi)\n",
        "  \n",
        "\n",
        "with open(mod_path + f'/word_set.pkl', 'wb') as f:\n",
        "  pickle.dump(word_set, f)\n"
      ],
      "metadata": {
        "id": "6fUP5Hnu-5ko"
      },
      "execution_count": null,
      "outputs": []
    },
    {
      "cell_type": "code",
      "source": [
        "print(len(word_set))"
      ],
      "metadata": {
        "colab": {
          "base_uri": "https://localhost:8080/"
        },
        "id": "7NAA5lnqRHnF",
        "outputId": "6920d202-e119-4592-82bc-6e9ac6450a0c"
      },
      "execution_count": null,
      "outputs": [
        {
          "output_type": "stream",
          "name": "stdout",
          "text": [
            "8971\n"
          ]
        }
      ]
    },
    {
      "cell_type": "code",
      "source": [
        "with open(mod_path+ '/word_set.pkl', 'rb') as f:\n",
        "  word_set = pickle.load(f)\n",
        "with open(mod_path + '/word_to_index.pkl', 'rb') as f:\n",
        "  word_to_index = pickle.load(f)\n",
        "with open(mod_path + '/index_to_word.pkl', 'rb') as f:\n",
        "  index_to_word = pickle.load(f)\n",
        "print(len(word_set))\n",
        "print(len(word_to_index))\n",
        "print(len(index_to_word))\n"
      ],
      "metadata": {
        "colab": {
          "base_uri": "https://localhost:8080/"
        },
        "id": "OH3ChUOvNA0s",
        "outputId": "289060cb-cca1-4e65-902c-daf50830f696"
      },
      "execution_count": null,
      "outputs": [
        {
          "output_type": "stream",
          "name": "stdout",
          "text": [
            "8971\n",
            "8971\n",
            "8971\n"
          ]
        }
      ]
    },
    {
      "cell_type": "code",
      "source": [
        "def make_binary_tf_idf_matrix(word_set, V, dir_len):\n",
        "  binary_mat = np.zeros((dir_len+1, V))\n",
        "\n",
        "  for token, word in word_set.items():\n",
        "    map = word.binary_tf\n",
        "    col = word_to_index[token]\n",
        "    for row in map.keys():\n",
        "      binary_mat[row][col] = math.log((1+dir_len)/(1+word.df))\n",
        "\n",
        "  return binary_mat\n",
        "\n",
        "binary_mat = make_binary_tf_idf_matrix(word_set, 8971, 1400)\n",
        "print(np.count_nonzero(binary_mat==0))"
      ],
      "metadata": {
        "colab": {
          "base_uri": "https://localhost:8080/"
        },
        "id": "vbdECLL0MwpY",
        "outputId": "3c3ca166-2583-49be-b076-32bcff20dfb6"
      },
      "execution_count": null,
      "outputs": [
        {
          "output_type": "stream",
          "name": "stdout",
          "text": [
            "12476867\n"
          ]
        }
      ]
    },
    {
      "cell_type": "code",
      "source": [
        "def make_count_tf_idf_matrix(word_set, V, dir_len):\n",
        "  count_mat = np.zeros((dir_len+1, V))\n",
        "\n",
        "  for token, word in word_set.items():\n",
        "    map = word.count_tf\n",
        "    col = word_to_index[token]\n",
        "    for row in map.keys():\n",
        "      count_mat[row][col] = map[row] * math.log((1+dir_len)/(1+word.df))\n",
        "\n",
        "  return count_mat \n",
        "\n",
        "count_mat = make_count_tf_idf_matrix(word_set, 8971, 1400) \n",
        "print(np.count_nonzero(count_mat==0))"
      ],
      "metadata": {
        "colab": {
          "base_uri": "https://localhost:8080/"
        },
        "id": "1x-X0A8rfGV3",
        "outputId": "ba49b66b-ffac-4ec1-863f-b4245da4bc66"
      },
      "execution_count": null,
      "outputs": [
        {
          "output_type": "stream",
          "name": "stdout",
          "text": [
            "12476867\n"
          ]
        }
      ]
    },
    {
      "cell_type": "code",
      "source": [
        "def make_freq_tf_idf_matrix(word_set, V, dir_len):\n",
        "  freq_mat = np.zeros((dir_len+1, V))\n",
        "\n",
        "  for token, word in word_set.items():\n",
        "    map = word.freq_tf\n",
        "    col = word_to_index[token]\n",
        "    for row in map.keys():\n",
        "      freq_mat[row][col] = map[row] * math.log((1+dir_len)/(1+word.df))\n",
        "\n",
        "  return freq_mat \n",
        "freq_mat = make_freq_tf_idf_matrix(word_set, 8971, 1400)\n",
        "print(np.count_nonzero(freq_mat == 0))"
      ],
      "metadata": {
        "colab": {
          "base_uri": "https://localhost:8080/"
        },
        "id": "SambtAL-jLAG",
        "outputId": "fca89f5e-a4be-48a1-f781-de3d0f76c8b1"
      },
      "execution_count": null,
      "outputs": [
        {
          "output_type": "stream",
          "name": "stdout",
          "text": [
            "12476867\n"
          ]
        }
      ]
    },
    {
      "cell_type": "code",
      "source": [
        "def make_log_tf_idf_matrix(word_set, V, dir_len):\n",
        "  log_mat = np.zeros((dir_len+1, V))\n",
        "\n",
        "  for token, word in word_set.items():\n",
        "    map = word.log_tf\n",
        "    col = word_to_index[token]\n",
        "    for row in map.keys():\n",
        "      log_mat[row][col] = map[row] * math.log((1+dir_len)/(1+word.df))\n",
        "\n",
        "  return log_mat \n",
        "log_mat = make_log_tf_idf_matrix(word_set, 8971, 1400)\n",
        "print(np.count_nonzero(log_mat == 0))\n",
        "print(np.unique(log_mat))"
      ],
      "metadata": {
        "colab": {
          "base_uri": "https://localhost:8080/"
        },
        "id": "B2rXq0dsiLrn",
        "outputId": "336e82c2-8927-472a-cc13-d546ac7a738b"
      },
      "execution_count": null,
      "outputs": [
        {
          "output_type": "stream",
          "name": "stdout",
          "text": [
            "12476867\n",
            "[ 0.          0.49394171  0.5901114  ... 14.73825387 15.08606404\n",
            " 16.59879738]\n"
          ]
        }
      ]
    },
    {
      "cell_type": "code",
      "source": [
        "def make_dnorm_tf_idf_matrix(word_set, V, dir_len):\n",
        "  dnorm_mat = np.zeros((dir_len+1, V))\n",
        "\n",
        "  for token, word in word_set.items():\n",
        "    map = word.double_norm_tf\n",
        "    col = word_to_index[token]\n",
        "    for row in map.keys():\n",
        "      dnorm_mat[row][col] = map[row] * math.log((1+dir_len)/(1+word.df))\n",
        "\n",
        "  return dnorm_mat\n",
        "dnorm_mat = make_dnorm_tf_idf_matrix(word_set, 8971, 1400)\n",
        "print(np.count_nonzero(dnorm_mat == 0))\n",
        "print(np.unique(dnorm_mat))"
      ],
      "metadata": {
        "colab": {
          "base_uri": "https://localhost:8080/"
        },
        "id": "HsAkD44WksIC",
        "outputId": "f65beba8-ab18-49bb-e9e8-780549081688"
      },
      "execution_count": null,
      "outputs": [
        {
          "output_type": "stream",
          "name": "stdout",
          "text": [
            "12476867\n",
            "[0.         0.37505645 0.38175389 ... 6.08380905 6.14632926 6.55179437]\n"
          ]
        }
      ]
    },
    {
      "cell_type": "code",
      "source": [
        "with open(mod_path+'/dnorm_mat.pkl', 'wb') as f:\n",
        "  pickle.dump(dnorm_mat, f)\n",
        "with open(mod_path+'/log_mat.pkl', 'wb') as f:\n",
        "  pickle.dump(log_mat, f)\n",
        "with open(mod_path + '/freq_mat.pkl', 'wb') as f:\n",
        "  pickle.dump(freq_mat, f)\n",
        "with open(mod_path + '/count_mat.pkl', 'wb') as f:\n",
        "  pickle.dump(count_mat, f)\n",
        "with open(mod_path + '/binary_mat.pkl', 'wb') as f:\n",
        "  pickle.dump(binary_mat, f)\n"
      ],
      "metadata": {
        "id": "5VxgFA69lLa4"
      },
      "execution_count": null,
      "outputs": []
    },
    {
      "cell_type": "code",
      "source": [
        "with open(mod_path+'/dnorm_mat.pkl', 'rb') as f:\n",
        "  dnorm_mat = pickle.load(f)\n",
        "with open(mod_path+'/log_mat.pkl', 'rb') as f:\n",
        "  log_mat = pickle.load(f)\n",
        "with open(mod_path + '/freq_mat.pkl', 'rb') as f:\n",
        "  freq_mat = pickle.load(f)\n",
        "with open(mod_path + '/count_mat.pkl', 'rb') as f:\n",
        "  count_mat = pickle.load(f)\n",
        "with open(mod_path + '/binary_mat.pkl', 'rb') as f:\n",
        "  binary_mat = pickle.load(f)"
      ],
      "metadata": {
        "id": "8i_Sf215JRV1"
      },
      "execution_count": 8,
      "outputs": []
    },
    {
      "cell_type": "code",
      "source": [
        "print(binary_mat.shape)"
      ],
      "metadata": {
        "colab": {
          "base_uri": "https://localhost:8080/"
        },
        "id": "D85fjIjYJirQ",
        "outputId": "c4889244-ed35-49b3-9e78-8d60c6f23690"
      },
      "execution_count": 9,
      "outputs": [
        {
          "output_type": "stream",
          "name": "stdout",
          "text": [
            "(1401, 8971)\n"
          ]
        }
      ]
    },
    {
      "cell_type": "code",
      "source": [
        "import os\n",
        "import nltk\n",
        "from nltk.tokenize import word_tokenize\n",
        "nltk.download('punkt')\n",
        "nltk.download('stopwords')\n",
        "from nltk.corpus import stopwords\n",
        "from nltk.tokenize import RegexpTokenizer\n",
        "import string"
      ],
      "metadata": {
        "colab": {
          "base_uri": "https://localhost:8080/"
        },
        "id": "tMe7a9cDtSIP",
        "outputId": "b6d956ff-8dc3-43c4-8f0f-69e325e3f88f"
      },
      "execution_count": 1,
      "outputs": [
        {
          "output_type": "stream",
          "name": "stderr",
          "text": [
            "[nltk_data] Downloading package punkt to /root/nltk_data...\n",
            "[nltk_data]   Unzipping tokenizers/punkt.zip.\n",
            "[nltk_data] Downloading package stopwords to /root/nltk_data...\n",
            "[nltk_data]   Unzipping corpora/stopwords.zip.\n"
          ]
        }
      ]
    },
    {
      "cell_type": "code",
      "source": [
        "from typing import List\n",
        "class preprocessor:\n",
        "  def __init__(self):\n",
        "    self.value = 1\n",
        "  \n",
        "  def read_file(self, path:str) -> str:\n",
        "    '''reads the contents of a file and converts them into \n",
        "    a string of words separated by space.'''\n",
        "    f = open(path, 'r')\n",
        "    text = ''\n",
        "    for line in f:\n",
        "      for word in line.split(\" \"):\n",
        "        text += '' + word + ' '\n",
        "    f.close()\n",
        "    return text\n",
        "  \n",
        "  def tokenize(self, text:str):\n",
        "    ''' The function takes in a string and \n",
        "    converts it into a list of tokens using nltk'''\n",
        "\n",
        "    tokens = word_tokenize(text)\n",
        "    return tokens\n",
        "  def tokens_to_text(self, tokens:List) -> str:\n",
        "    ''' converts the tokens into space-separated string'''\n",
        "    text = ''\n",
        "    for token in tokens:\n",
        "\n",
        "      text += '' + token + ' '\n",
        "    return text\n",
        "\n",
        "  def lowercase(self, tokens:List):\n",
        "    ''' This function takes in the list of tokens\n",
        "     and returns the lowercase version of each token without changing the index positions'''\n",
        "\n",
        "    for i in range(len(tokens)):\n",
        "      tokens[i] = tokens[i].lower()\n",
        "    return tokens\n",
        "\n",
        "  def remove_stopwords(self, tokens:List) -> List:\n",
        "    ''' removes any stop words present as tokens in the list of tokens \n",
        "    present using nltk's corpus of stopwords'''\n",
        "    stop_words = set(stopwords.words('english'))\n",
        "    resultant_tokens = []\n",
        "    for token in tokens:\n",
        "      if token not in stop_words:\n",
        "        resultant_tokens.append(token)\n",
        "    return resultant_tokens\n",
        "\n",
        "  def remove_puncts(self, tokens:List) -> List:\n",
        "    ''' removes any punctuations present as tokens \n",
        "    and returns the resutlant list of tokens'''\n",
        "\n",
        "    resultant_tokens = []\n",
        "    text = self.tokens_to_text(tokens)\n",
        "    text = text.translate(str.maketrans('', '', string.punctuation))\n",
        "\n",
        "    return self.tokenize(text)\n",
        "  \n",
        "  "
      ],
      "metadata": {
        "id": "AFz2-i-otPM9"
      },
      "execution_count": 23,
      "outputs": []
    },
    {
      "cell_type": "code",
      "source": [
        "proc = preprocessor()\n",
        "def preprocess_query(phrase:str)->List:\n",
        "  phrase_tokens = proc.tokenize(phrase)\n",
        "  phrase_tokens = proc.remove_puncts(phrase)\n",
        "  phrase_tokens = proc.lowercase(phrase_tokens)\n",
        "  phrase_tokens = proc.remove_stopwords(phrase_tokens)\n",
        "  return phrase_tokens\n",
        "def vectorize(query):\n",
        "  tokens = preprocess_query(query)\n",
        "  if len(tokens) == 0:\n",
        "    return []\n",
        "  query_map = {}\n",
        "  total_len = len(tokens)\n",
        "\n",
        "  for token in tokens:\n",
        "    if token not in query_map:\n",
        "      query_map[token] = 1\n",
        "    else:\n",
        "      query_map[token] += 1\n",
        "\n",
        "  binary_vector = np.zeros((8971,1))\n",
        "  count_vector = np.zeros((8971,1))\n",
        "  freq_vector = np.zeros((8971,1))\n",
        "  log_vector = np.zeros((8971,1))\n",
        "  dnorm_vector = np.zeros((8971,1))\n",
        "\n",
        "  sorted_dict = {k:v for k,v in sorted(query_map.items(), key = lambda item:item[1], reverse = True)}\n",
        "  maxi = sorted_dict[list(sorted_dict.keys())[0]]\n",
        "\n",
        "  for word in query_map.keys():\n",
        "    if word in word_to_index:\n",
        "      binary_vector[word_to_index[word]][0] = 1\n",
        "      count_vector[word_to_index[word]][0] = query_map[word]\n",
        "      freq_vector[word_to_index[word]][0] = query_map[word]/total_len\n",
        "      log_vector[word_to_index[word]][0] = math.log(1+query_map[word])\n",
        "      dnorm_vector[word_to_index[word]][0] = 0.5 + 0.5*(query_map[word])/maxi\n",
        "\n",
        "  res = []\n",
        "  res.append(binary_vector)\n",
        "  res.append(count_vector)\n",
        "  res.append(freq_vector)\n",
        "  res.append(log_vector)\n",
        "  res.append(dnorm_vector)\n",
        "\n",
        "  return res  \n",
        "\n",
        "def calc_res(matrix, vector): \n",
        "  ''' returns the top 10 documents on the basis of the cosine similarity of the doc and the query tf vector'''\n",
        "  res_dict = {}\n",
        "  for row in range(1, matrix.shape[0]):\n",
        "    res_dict[row] = np.dot(matrix[row], vector)\n",
        "  sorted_dict = {k:v for k,v in sorted(res_dict.items(), key = lambda item:item[1], reverse = True)}\n",
        "  idx = 0\n",
        "  res_list = []\n",
        "  for doc_id in sorted_dict.keys():\n",
        "    res_list.append(doc_id)\n",
        "    if idx == 9:\n",
        "      break\n",
        "    idx+=1\n",
        "  return res_list\n",
        "    "
      ],
      "metadata": {
        "id": "cDa266d9rF5c"
      },
      "execution_count": 35,
      "outputs": []
    },
    {
      "cell_type": "code",
      "source": [
        "vocab_matrix = []\n",
        "vocab_matrix.append(binary_mat)\n",
        "vocab_matrix.append(count_mat)\n",
        "vocab_matrix.append(freq_mat)\n",
        "vocab_matrix.append(log_mat)\n",
        "vocab_matrix.append(dnorm_mat)\n",
        "print(len(vocab_matrix))"
      ],
      "metadata": {
        "colab": {
          "base_uri": "https://localhost:8080/"
        },
        "id": "yJ02jlNgOr78",
        "outputId": "fd4a370d-5a44-402f-dc33-a2133dcbdcc9"
      },
      "execution_count": 10,
      "outputs": [
        {
          "output_type": "stream",
          "name": "stdout",
          "text": [
            "5\n"
          ]
        }
      ]
    },
    {
      "cell_type": "code",
      "source": [
        "def run_tf_idf():\n",
        "  q = int(input('Enter the number of queries: '))\n",
        "  while q>0:\n",
        "    query = input('Enter the query: ')\n",
        "    vectors = vectorize(query)\n",
        "    if len(vectors) == 0:\n",
        "        print('No relevant documents found. All dot products were 0')\n",
        "        break\n",
        "    type_of_tf = ['Binary weights', 'Count as weight', 'Frequency as weight', 'Log normalised weight', 'Double normalization weight']\n",
        "    for i in range(5):\n",
        "      print(f'Type of Tf: {type_of_tf[i]}')\n",
        "      res_list = calc_res(vocab_matrix[i], vectors[i])\n",
        "      if len(res_list) == 0:\n",
        "        print('No relevant documents found. All dot products were 0')\n",
        "      else:\n",
        "        print(res_list)\n",
        "    q-=1\n",
        "run_tf_idf()\n",
        "\n",
        "    "
      ],
      "metadata": {
        "id": "K582-RvhpUnv",
        "colab": {
          "base_uri": "https://localhost:8080/"
        },
        "outputId": "0a336027-abcb-4fe5-dc17-ad0e91d4ddfd"
      },
      "execution_count": 37,
      "outputs": [
        {
          "output_type": "stream",
          "name": "stdout",
          "text": [
            "Enter the number of queries: 3\n",
            "Enter the query: velocity is it\n",
            "Type of Tf: Binary weights\n",
            "[1365, 857, 962, 1138, 263, 437, 452, 458, 731, 787]\n",
            "Type of Tf: Count as weight\n",
            "[731, 1365, 1082, 1047, 455, 528, 548, 1218, 857, 962]\n",
            "Type of Tf: Frequency as weight\n",
            "[1365, 1138, 437, 731, 528, 429, 612, 159, 615, 380]\n",
            "Type of Tf: Log normalised weight\n",
            "[731, 1365, 1047, 1082, 857, 962, 1138, 263, 437, 452]\n",
            "Type of Tf: Double normalization weight\n",
            "[1365, 1138, 437, 731, 1047, 263, 1056, 857, 962, 611]\n",
            "Enter the query: analytics and analysis\n",
            "Type of Tf: Binary weights\n",
            "[962, 1136, 673, 1040, 1092, 1330, 8, 739, 857, 890]\n",
            "Type of Tf: Count as weight\n",
            "[259, 867, 131, 304, 476, 1047, 1092, 1365, 1040, 249]\n",
            "Type of Tf: Frequency as weight\n",
            "[259, 867, 437, 478, 1365, 1298, 855, 249, 476, 868]\n",
            "Type of Tf: Log normalised weight\n",
            "[259, 1092, 867, 1040, 131, 304, 476, 1047, 1136, 1365]\n",
            "Type of Tf: Double normalization weight\n",
            "[1136, 1092, 1365, 259, 437, 867, 1040, 962, 1330, 673]\n",
            "Enter the query: isi=\n",
            "No relevant documents found. All dot products were 0\n"
          ]
        }
      ]
    }
  ]
}